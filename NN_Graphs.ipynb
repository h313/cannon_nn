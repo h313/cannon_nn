{
 "cells": [
  {
   "cell_type": "code",
   "execution_count": 1,
   "metadata": {},
   "outputs": [
    {
     "name": "stderr",
     "output_type": "stream",
     "text": [
      "Using TensorFlow backend.\n"
     ]
    }
   ],
   "source": [
    "from keras.models import load_model\n",
    "from ipywidgets import interact\n",
    "import matplotlib.pyplot as plt\n",
    "import numpy as np\n",
    "\n",
    "# T       M_C  M_S    V       R\n",
    "# 4000.0, 3.3, 10.63, 399.99, 1431.04435815"
   ]
  },
  {
   "cell_type": "code",
   "execution_count": 2,
   "metadata": {
    "collapsed": true
   },
   "outputs": [],
   "source": [
    "model = load_model(\"trained_model.h5\")"
   ]
  },
  {
   "cell_type": "code",
   "execution_count": 3,
   "metadata": {
    "collapsed": true
   },
   "outputs": [],
   "source": [
    "@np.vectorize\n",
    "def predict(time, charge_weight):\n",
    "    prediction = model.predict(np.array([[time / 4000.0, charge_weight / 3.3]]))[0]\n",
    "    velocity = prediction[0] * 399.99\n",
    "    r = prediction[1] * 1431.04435815\n",
    "    return velocity, r"
   ]
  },
  {
   "cell_type": "code",
   "execution_count": 4,
   "metadata": {
    "collapsed": true,
    "scrolled": true
   },
   "outputs": [],
   "source": [
    "def plot_points(charge_weight):\n",
    "    time_axis = np.arange(0, 4000, 200)\n",
    "    v, r = predict(time_axis, charge_weight)\n",
    "\n",
    "    fig, (ax1, ax2) = plt.subplots(2, 1, sharex=True)\n",
    "    plt.suptitle(f\"Velocity and Distance over time with a {charge_weight} kg charge\", y=1.05, fontweight=\"bold\")\n",
    "\n",
    "    ax1.plot(time_axis, v)\n",
    "    ax1.set_title(\"$v(t)$\")\n",
    "    ax1.set_ylim(0, 450)\n",
    "    ax1.set_ylabel(\"Velocity (m/s)\")\n",
    "\n",
    "    ax2.plot(time_axis, r)\n",
    "    ax2.set_title(\"$r(t)$\")\n",
    "    ax2.set_ylim(0, 1500)\n",
    "    ax2.set_xlabel(\"Time (milliseconds)\")\n",
    "    ax2.set_ylabel(\"Distance (m)\")\n",
    "\n",
    "    plt.tight_layout(pad=1.5)\n",
    "    plt.show()"
   ]
  },
  {
   "cell_type": "code",
   "execution_count": 5,
   "metadata": {},
   "outputs": [
    {
     "data": {
      "application/vnd.jupyter.widget-view+json": {
       "model_id": "f99b08b070954a369524b74663b205b9"
      }
     },
     "metadata": {},
     "output_type": "display_data"
    },
    {
     "data": {
      "text/plain": [
       "<function __main__.plot_points>"
      ]
     },
     "execution_count": 5,
     "metadata": {},
     "output_type": "execute_result"
    }
   ],
   "source": [
    "interact(plot_points, charge_weight=(0, 5, 0.01))"
   ]
  },
  {
   "cell_type": "code",
   "execution_count": null,
   "metadata": {
    "collapsed": true
   },
   "outputs": [],
   "source": []
  }
 ],
 "metadata": {
  "kernelspec": {
   "display_name": "Python 3",
   "language": "python",
   "name": "python3"
  },
  "language_info": {
   "codemirror_mode": {
    "name": "ipython",
    "version": 3
   },
   "file_extension": ".py",
   "mimetype": "text/x-python",
   "name": "python",
   "nbconvert_exporter": "python",
   "pygments_lexer": "ipython3",
   "version": "3.6.4"
  }
 },
 "nbformat": 4,
 "nbformat_minor": 2
}
