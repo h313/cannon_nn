{
 "cells": [
  {
   "cell_type": "code",
   "execution_count": 34,
   "metadata": {},
   "outputs": [],
   "source": [
    "from keras.models import load_model\n",
    "from ipywidgets import interact\n",
    "import matplotlib.pyplot as plt\n",
    "import math\n",
    "import numpy as np\n",
    "\n",
    "plt.style.use('ggplot')\n",
    "\n",
    "# t       angle            m    v       x        y\n",
    "# 4000.0, 0.0626357297323, 3.3, 399.99, 1011.87, 19.28"
   ]
  },
  {
   "cell_type": "code",
   "execution_count": 9,
   "metadata": {
    "collapsed": true
   },
   "outputs": [],
   "source": [
    "model = load_model(\"trained_model.h5\")"
   ]
  },
  {
   "cell_type": "code",
   "execution_count": 27,
   "metadata": {
    "collapsed": true
   },
   "outputs": [],
   "source": [
    "@np.vectorize\n",
    "def predict(time, angle, charge_weight):\n",
    "    prediction = model.predict(np.array([[time / 4000.0, angle / 0.0626357297323, charge_weight / 3.3]]))[0]\n",
    "    velocity = prediction[0] * 399.99\n",
    "    x = prediction[1] * 1011.87\n",
    "    y = prediction[2] * 19.28\n",
    "    return velocity, x, y"
   ]
  },
  {
   "cell_type": "code",
   "execution_count": 28,
   "metadata": {
    "collapsed": true,
    "scrolled": true
   },
   "outputs": [],
   "source": [
    "def plot_points(angle, charge_weight):\n",
    "    time_axis = np.arange(0, 4000, 200)\n",
    "    v, x, y = predict(time_axis, angle, charge_weight)\n",
    "\n",
    "    fig, (ax1, ax2) = plt.subplots(2, 1, sharex=True, figsize=(6, 8))\n",
    "    plt.suptitle(f\"Velocity and Distance over time with a {charge_weight} kg charge\", y=1.05, fontweight=\"bold\")\n",
    "\n",
    "    ax1.plot(time_axis, v)\n",
    "    ax1.set_title(\"$v(t)$\")\n",
    "    ax1.set_ylim(0, 450)\n",
    "    ax1.set_ylabel(\"Velocity (m/s)\")\n",
    "\n",
    "    plt.tight_layout(pad=1.5)\n",
    "    plt.show()"
   ]
  },
  {
   "cell_type": "code",
   "execution_count": 35,
   "metadata": {},
   "outputs": [
    {
     "data": {
      "application/vnd.jupyter.widget-view+json": {
       "model_id": "f6d9a8f0ddc2439e8d4c9d240db54ad8"
      }
     },
     "metadata": {},
     "output_type": "display_data"
    },
    {
     "data": {
      "text/plain": [
       "<function __main__.plot_points>"
      ]
     },
     "execution_count": 35,
     "metadata": {},
     "output_type": "execute_result"
    }
   ],
   "source": [
    "interact(plot_points, angle=(0, math.pi / 2, 0.01), charge_weight=(0, 5, 0.01))"
   ]
  },
  {
   "cell_type": "code",
   "execution_count": null,
   "metadata": {
    "collapsed": true
   },
   "outputs": [],
   "source": []
  }
 ],
 "metadata": {
  "kernelspec": {
   "display_name": "Python 3",
   "language": "python",
   "name": "python3"
  },
  "language_info": {
   "codemirror_mode": {
    "name": "ipython",
    "version": 3
   },
   "file_extension": ".py",
   "mimetype": "text/x-python",
   "name": "python",
   "nbconvert_exporter": "python",
   "pygments_lexer": "ipython3",
   "version": "3.6.4"
  }
 },
 "nbformat": 4,
 "nbformat_minor": 2
}
