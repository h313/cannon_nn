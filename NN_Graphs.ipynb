{
 "cells": [
  {
   "cell_type": "code",
   "execution_count": 1,
   "metadata": {},
   "outputs": [
    {
     "name": "stderr",
     "output_type": "stream",
     "text": [
      "Using TensorFlow backend.\n"
     ]
    }
   ],
   "source": [
    "from keras.models import load_model\n",
    "from ipywidgets import interact\n",
    "import matplotlib.pyplot as plt\n",
    "from mpl_toolkits.mplot3d import Axes3D\n",
    "import math\n",
    "import numpy as np\n",
    "\n",
    "%matplotlib notebook\n",
    "\n",
    "plt.style.use('ggplot')\n",
    "\n",
    "# t       angle            m    v       x        y\n",
    "# 4000.0, 0.0626357297323, 3.3, 399.99, 1011.87, 19.28"
   ]
  },
  {
   "cell_type": "code",
   "execution_count": 2,
   "metadata": {
    "collapsed": true
   },
   "outputs": [],
   "source": [
    "model = load_model(\"trained_model.h5\")"
   ]
  },
  {
   "cell_type": "code",
   "execution_count": 3,
   "metadata": {
    "collapsed": true
   },
   "outputs": [],
   "source": [
    "@np.vectorize\n",
    "def predict(time, angle, charge_weight):\n",
    "    prediction = model.predict(np.array([[time / 4000.0, angle / 0.0626357297323, charge_weight / 3.3]]))[0]\n",
    "    velocity = prediction[0] * 399.99\n",
    "    x = prediction[1] * 1011.87\n",
    "    y = prediction[2] * 19.28\n",
    "    return velocity, x, y"
   ]
  },
  {
   "cell_type": "code",
   "execution_count": 10,
   "metadata": {
    "collapsed": true,
    "scrolled": true
   },
   "outputs": [],
   "source": [
    "def plot_points(angle, charge_weight):\n",
    "    time_axis = np.arange(0, 4000, 200)\n",
    "    v, x, y = predict(time_axis, angle, charge_weight)\n",
    "    \n",
    "    fig = plt.figure(figsize=(6, 8))\n",
    "\n",
    "    ax1 = fig.add_subplot(2, 1, 1)\n",
    "    ax1.plot(time_axis, v)\n",
    "    ax1.set_title(\"$v(t)$\")\n",
    "    ax1.set_ylim(0, 450)\n",
    "    ax1.set_ylabel(\"Velocity (m/s)\")\n",
    "    ax1.set_xlabel(\"Time (milliseconds)\")\n",
    "    \n",
    "    ax2 = fig.add_subplot(2, 1, 2, projection='3d')\n",
    "    ax2.set_title(\"$r(t)$\")\n",
    "    ax2.set_xlabel(\"Time (millisconds)\")\n",
    "    ax2.set_ylabel(\"x distance (meters)\")\n",
    "    ax2.set_zlabel(\"y distance (meters)\")\n",
    "    ax2.plot(time_axis, x, y)\n",
    "\n",
    "    plt.tight_layout(pad=1.5)\n",
    "    plt.show()"
   ]
  },
  {
   "cell_type": "code",
   "execution_count": 11,
   "metadata": {},
   "outputs": [
    {
     "data": {
      "application/vnd.jupyter.widget-view+json": {
       "model_id": "83ea738ed9b9445391bfdeb711a2da10"
      }
     },
     "metadata": {},
     "output_type": "display_data"
    },
    {
     "data": {
      "text/plain": [
       "<function __main__.plot_points>"
      ]
     },
     "execution_count": 11,
     "metadata": {},
     "output_type": "execute_result"
    }
   ],
   "source": [
    "interact(plot_points, angle=(0, math.pi / 2, 0.01), charge_weight=(0, 5, 0.01))"
   ]
  },
  {
   "cell_type": "code",
   "execution_count": null,
   "metadata": {
    "collapsed": true
   },
   "outputs": [],
   "source": []
  }
 ],
 "metadata": {
  "kernelspec": {
   "display_name": "Python 3",
   "language": "python",
   "name": "python3"
  },
  "language_info": {
   "codemirror_mode": {
    "name": "ipython",
    "version": 3
   },
   "file_extension": ".py",
   "mimetype": "text/x-python",
   "name": "python",
   "nbconvert_exporter": "python",
   "pygments_lexer": "ipython3",
   "version": "3.6.4"
  }
 },
 "nbformat": 4,
 "nbformat_minor": 2
}
