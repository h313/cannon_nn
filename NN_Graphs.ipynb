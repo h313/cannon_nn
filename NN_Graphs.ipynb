{
 "cells": [
  {
   "cell_type": "code",
   "execution_count": 33,
   "metadata": {
    "collapsed": true
   },
   "outputs": [],
   "source": [
    "from keras.models import load_model\n",
    "from ipywidgets import interact\n",
    "import matplotlib.pyplot as plt\n",
    "import numpy as np\n",
    "\n",
    "# T       M_C  M_S    V       R\n",
    "# 4000.0, 3.3, 10.63, 399.99, 1431.04435815"
   ]
  },
  {
   "cell_type": "code",
   "execution_count": 29,
   "metadata": {
    "collapsed": true
   },
   "outputs": [],
   "source": [
    "model = load_model(\"trained_model.h5\")"
   ]
  },
  {
   "cell_type": "code",
   "execution_count": 58,
   "metadata": {},
   "outputs": [],
   "source": [
    "def predict(time, charge_weight):\n",
    "    prediction = model.predict(np.array([[time / 4000.0, charge_weight / 3.3]]))[0]\n",
    "    velocity = prediction[0] * 399.99\n",
    "    r = prediction[1] * 1431.04435815\n",
    "    return velocity, r"
   ]
  },
  {
   "cell_type": "code",
   "execution_count": 83,
   "metadata": {
    "scrolled": true
   },
   "outputs": [],
   "source": [
    "def plot_points(charge_weight):\n",
    "    time_axis = np.arange(0, 4000, 10)\n",
    "    v, r = np.array([predict(time, charge_weight) for time in time_axis]).transpose()\n",
    "\n",
    "    fig, (ax1, ax2) = plt.subplots(1, 2)\n",
    "\n",
    "    ax1.plot(time_axis, v)\n",
    "    ax1.set_title(\"v\")\n",
    "    ax1.set_ylim(0, 450)\n",
    "\n",
    "    ax2.plot(time_axis, r)\n",
    "    ax2.set_title(\"r\")\n",
    "    ax2.set_ylim(0, 1500)\n",
    "\n",
    "    plt.show()"
   ]
  },
  {
   "cell_type": "code",
   "execution_count": 84,
   "metadata": {},
   "outputs": [
    {
     "data": {
      "application/vnd.jupyter.widget-view+json": {
       "model_id": "0755e36a92564f35ad9a0487d1ea920c"
      }
     },
     "metadata": {},
     "output_type": "display_data"
    },
    {
     "data": {
      "text/plain": [
       "<function __main__.plot_points>"
      ]
     },
     "execution_count": 84,
     "metadata": {},
     "output_type": "execute_result"
    }
   ],
   "source": [
    "interact(plot_points, charge_weight=(0, 3.3, 0.1))"
   ]
  },
  {
   "cell_type": "code",
   "execution_count": null,
   "metadata": {
    "collapsed": true
   },
   "outputs": [],
   "source": []
  }
 ],
 "metadata": {
  "kernelspec": {
   "display_name": "Python 3",
   "language": "python",
   "name": "python3"
  },
  "language_info": {
   "codemirror_mode": {
    "name": "ipython",
    "version": 3
   },
   "file_extension": ".py",
   "mimetype": "text/x-python",
   "name": "python",
   "nbconvert_exporter": "python",
   "pygments_lexer": "ipython3",
   "version": "3.6.4"
  }
 },
 "nbformat": 4,
 "nbformat_minor": 2
}
